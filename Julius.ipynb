{
 "cells": [
  {
   "cell_type": "markdown",
   "id": "7c8bbca9-f599-4ad3-b024-866c2879e1ee",
   "metadata": {},
   "source": [
    "# Assignment Solution"
   ]
  },
  {
   "cell_type": "code",
   "execution_count": 34,
   "id": "2a08a9ed-c7d0-4029-b81f-e636a5742f55",
   "metadata": {},
   "outputs": [],
   "source": [
    "# Number Data types\n",
    "\n",
    "# integer\n",
    "x = 4\n",
    "\n",
    "# float\n",
    "y = 5.60\n",
    "\n",
    "# complex numbers\n",
    "z = 5 + 4j"
   ]
  },
  {
   "cell_type": "code",
   "execution_count": 35,
   "id": "8b01228d-6de7-42c7-ba1d-9d4cbd2f0865",
   "metadata": {},
   "outputs": [
    {
     "data": {
      "text/plain": [
       "complex"
      ]
     },
     "execution_count": 35,
     "metadata": {},
     "output_type": "execute_result"
    }
   ],
   "source": [
    "type(z)"
   ]
  },
  {
   "cell_type": "code",
   "execution_count": 36,
   "id": "cf705413-0e26-4545-b09d-eb7e20f200a2",
   "metadata": {},
   "outputs": [],
   "source": [
    "# String\n",
    "\n",
    "name = \"Wisdom\""
   ]
  },
  {
   "cell_type": "code",
   "execution_count": 37,
   "id": "f28ed4ed-f993-4bc7-8e8d-6ce751a25b74",
   "metadata": {},
   "outputs": [
    {
     "data": {
      "text/plain": [
       "'Wisdom'"
      ]
     },
     "execution_count": 37,
     "metadata": {},
     "output_type": "execute_result"
    }
   ],
   "source": [
    "name"
   ]
  },
  {
   "cell_type": "code",
   "execution_count": 38,
   "id": "212e7665-5652-4647-9012-afd586f64424",
   "metadata": {},
   "outputs": [],
   "source": [
    "# Boolean Data Type\n",
    "\n",
    "ismale = False"
   ]
  },
  {
   "cell_type": "code",
   "execution_count": 39,
   "id": "55512455-b228-411e-ad72-5e0eb50d88b7",
   "metadata": {},
   "outputs": [
    {
     "data": {
      "text/plain": [
       "False"
      ]
     },
     "execution_count": 39,
     "metadata": {},
     "output_type": "execute_result"
    }
   ],
   "source": [
    "ismale"
   ]
  },
  {
   "cell_type": "code",
   "execution_count": 40,
   "id": "b32dd391-6044-4859-94df-4d81d4054097",
   "metadata": {},
   "outputs": [
    {
     "data": {
      "text/plain": [
       "bool"
      ]
     },
     "execution_count": 40,
     "metadata": {},
     "output_type": "execute_result"
    }
   ],
   "source": [
    "type(ismale)"
   ]
  },
  {
   "cell_type": "code",
   "execution_count": 41,
   "id": "31118ffd-3f3c-470d-b165-f35b2d5acb95",
   "metadata": {},
   "outputs": [],
   "source": [
    "## Data Structures\n",
    "\n",
    "## lists\n",
    "student1 = [\"Tony\",\"John\",\"Lauretta\"]\n",
    "\n",
    "## tuples\n",
    "student2 = (\"Tony\",\"John\",\"Lauretta\")\n",
    "\n",
    "## sets\n",
    "student3 = {\"Tony\",\"John\",\"Lauretta\"}\n",
    "\n",
    "## Dictionary\n",
    "person = { \"name\" :\"David\", \"age\":50,\"color\" :\"purple\" }"
   ]
  },
  {
   "cell_type": "code",
   "execution_count": 42,
   "id": "d0aa8891-65be-43dd-80c7-d98f78a75959",
   "metadata": {},
   "outputs": [
    {
     "data": {
      "text/plain": [
       "{'John', 'Lauretta', 'Tony'}"
      ]
     },
     "execution_count": 42,
     "metadata": {},
     "output_type": "execute_result"
    }
   ],
   "source": [
    "student3"
   ]
  },
  {
   "cell_type": "code",
   "execution_count": 43,
   "id": "40c11161-c620-4454-9ee8-091dd3486eb9",
   "metadata": {},
   "outputs": [
    {
     "data": {
      "text/plain": [
       "tuple"
      ]
     },
     "execution_count": 43,
     "metadata": {},
     "output_type": "execute_result"
    }
   ],
   "source": [
    "type(student2)"
   ]
  },
  {
   "cell_type": "code",
   "execution_count": 45,
   "id": "6b900f54-a1cf-4896-b510-9b956086f9f3",
   "metadata": {},
   "outputs": [
    {
     "data": {
      "text/plain": [
       "{'name': 'David', 'age': 50, 'color': 'purple'}"
      ]
     },
     "execution_count": 45,
     "metadata": {},
     "output_type": "execute_result"
    }
   ],
   "source": [
    "person"
   ]
  },
  {
   "cell_type": "code",
   "execution_count": 46,
   "id": "bd542344-5e48-4db3-a9a8-89f8f4cb0be3",
   "metadata": {},
   "outputs": [
    {
     "data": {
      "text/plain": [
       "dict"
      ]
     },
     "execution_count": 46,
     "metadata": {},
     "output_type": "execute_result"
    }
   ],
   "source": [
    "type(person)"
   ]
  },
  {
   "cell_type": "code",
   "execution_count": null,
   "id": "687e189d-f3e5-456c-9aaf-b079bbcf5ed8",
   "metadata": {},
   "outputs": [],
   "source": []
  }
 ],
 "metadata": {
  "kernelspec": {
   "display_name": "Python 3 (ipykernel)",
   "language": "python",
   "name": "python3"
  },
  "language_info": {
   "codemirror_mode": {
    "name": "ipython",
    "version": 3
   },
   "file_extension": ".py",
   "mimetype": "text/x-python",
   "name": "python",
   "nbconvert_exporter": "python",
   "pygments_lexer": "ipython3",
   "version": "3.13.7"
  }
 },
 "nbformat": 4,
 "nbformat_minor": 5
}
